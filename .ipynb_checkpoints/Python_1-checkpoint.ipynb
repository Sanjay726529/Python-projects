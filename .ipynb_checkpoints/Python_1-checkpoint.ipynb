{
 "cells": [
  {
   "cell_type": "markdown",
   "metadata": {},
   "source": [
    "# AI/ML realated python problems\n",
    "---\n"
   ]
  },
  {
   "cell_type": "markdown",
   "metadata": {},
   "source": [
    "**1.1: Addition of two 2D/3D numpy matrices using for loop**"
   ]
  },
  {
   "cell_type": "code",
   "execution_count": 12,
   "metadata": {},
   "outputs": [
    {
     "name": "stdout",
     "output_type": "stream",
     "text": [
      "\n",
      "Addition of a two 2d matrice\n",
      "\n",
      "[[1.57904236 0.2652171  1.08982227 1.5861536 ]\n",
      " [0.75492092 0.59298655 1.530867   1.21165923]\n",
      " [1.05256829 1.3812284  0.57797137 0.95016996]\n",
      " [1.29683784 0.82458799 0.55174862 0.75439686]\n",
      " [1.20653463 1.05552199 0.19858451 1.04695384]]\n",
      "\n",
      "Addition of a two 3d matrice\n",
      "\n",
      "[[[0.42011665 0.64177091 1.23409461]\n",
      "  [1.15263571 1.06718786 0.78918105]\n",
      "  [0.77112717 0.34608442 1.42826859]\n",
      "  [1.60700407 1.60516376 1.09785438]]\n",
      "\n",
      " [[1.55353125 1.66506332 0.81653945]\n",
      "  [1.29760011 1.15513188 0.72885189]\n",
      "  [1.47419714 1.05836063 0.45965362]\n",
      "  [0.64652943 0.99783094 0.8146532 ]]\n",
      "\n",
      " [[0.36514209 0.96484965 0.9052346 ]\n",
      "  [1.06979688 0.81478934 1.31324816]\n",
      "  [1.59800438 0.96470054 0.55654818]\n",
      "  [0.86195839 0.82904209 0.12529057]]\n",
      "\n",
      " [[1.13397821 0.89601227 0.75726756]\n",
      "  [0.92314204 1.99097764 0.71871009]\n",
      "  [1.56043727 0.3664633  0.4343508 ]\n",
      "  [0.80473453 0.47160717 0.21372626]]\n",
      "\n",
      " [[1.1504793  0.90397102 0.35758532]\n",
      "  [0.53540481 1.0821654  0.55506606]\n",
      "  [1.12580958 1.31633314 1.77770154]\n",
      "  [1.08460103 1.81298503 0.70232978]]]\n",
      "\n",
      "Addition of a two 1d matrice\n",
      " \n",
      "[1.23159604 0.94126813 0.61011713 1.16813398 1.16768336 1.20086137\n",
      " 0.86868003 1.45106442]\n",
      "\n",
      "Addition of a two unequal matrice\n",
      "\n",
      "Matrix addition isn't possible due to unequal shapes\n"
     ]
    }
   ],
   "source": [
    "import numpy as np\n",
    "\n",
    "def mat_add(mat1: np.ndarray , mat2: np.ndarray):\n",
    "    \n",
    "    if mat1.shape != mat2.shape:\n",
    "        return \"Matrix addition isn't possible due to unequal shapes\"\n",
    "    \n",
    "    result = np.zeros(mat1.shape)\n",
    "    \n",
    "    if len(mat1.shape) == 3:\n",
    "        \n",
    "        for i in range(mat1.shape[0]):\n",
    "            for j in range(mat1.shape[1]):\n",
    "                for k in range(mat1.shape[2]):\n",
    "                    result[i,j,k] = mat1[i,j,k] + mat2[i,j,k]\n",
    "    \n",
    "    elif len(mat1.shape) == 2:\n",
    "        \n",
    "        for i in range(mat1.shape[0]):\n",
    "            for j in range(mat1.shape[1]):\n",
    "                result[i,j] = mat1[i,j] + mat2[i,j]\n",
    "    else:\n",
    "        \n",
    "        for i in range(mat1.shape[0]):\n",
    "            result[i] = mat1[i] + mat2[i]\n",
    "\n",
    "    return result\n",
    "\n",
    "a = np.random.rand(5,4)\n",
    "b = np.random.rand(5,4)\n",
    "\n",
    "c = np.random.rand(5,4,3)\n",
    "d = np.random.rand(5,4,3)\n",
    "\n",
    "e = np.random.rand(8)\n",
    "f = np.random.rand(8)\n",
    "\n",
    "print()\n",
    "print(\"Addition of a two 2d matrice\\n\")\n",
    "print(mat_add(a,b))\n",
    "print()\n",
    "print(\"Addition of a two 3d matrice\\n\")\n",
    "print(mat_add(c,d))\n",
    "print()\n",
    "print(\"Addition of a two 1d matrice\\n \")\n",
    "print(mat_add(e,f))\n",
    "print()\n",
    "print(\"Addition of a two unequal matrice\\n\")\n",
    "print(mat_add(a,c))\n",
    "\n",
    "\n",
    "    "
   ]
  },
  {
   "cell_type": "markdown",
   "metadata": {},
   "source": [
    "---\n",
    "**1.2: Given the center of a circle, the radius and a random point, find if the point is within the circle, on the circle or outside**"
   ]
  },
  {
   "cell_type": "code",
   "execution_count": 24,
   "metadata": {},
   "outputs": [
    {
     "name": "stdout",
     "output_type": "stream",
     "text": [
      "Enter the center of the circle(x,y) and radius seprated by spaces, i.e: x y r\n"
     ]
    },
    {
     "name": "stdin",
     "output_type": "stream",
     "text": [
      " 5 5 3\n"
     ]
    },
    {
     "name": "stdout",
     "output_type": "stream",
     "text": [
      "Enter the random point coordinates i.e: p q\n"
     ]
    },
    {
     "name": "stdin",
     "output_type": "stream",
     "text": [
      " 3 2 \n"
     ]
    },
    {
     "name": "stdout",
     "output_type": "stream",
     "text": [
      "Outside the circle\n"
     ]
    }
   ],
   "source": [
    "def find_pos_rand_point(circle: tuple = (5,5,10), rand_point: tuple = None):\n",
    "    \n",
    "    x,y,r = circle[0], circle[1], circle[2]\n",
    "    rand_x, rand_y = rand_point[0], rand_point[1]\n",
    "    \n",
    "    # find the distance between center and random point using eculedian distance formula\n",
    "    distance = np.sqrt((x-rand_x)**2 + (y - rand_y)**2)\n",
    "    \n",
    "    if distance < r:\n",
    "        return \"inside the circle\"\n",
    "    elif distance == r:\n",
    "        return \"On the circle\"\n",
    "    else:\n",
    "        return \"Outside the circle\"\n",
    "\n",
    "\n",
    "print(\"Enter the center of the circle(x,y) and radius seprated by spaces, i.e: x y r\")\n",
    "cir = tuple(map(float, input().strip().split(' ')))\n",
    "\n",
    "print(\"Enter the random point coordinates i.e: p q\")\n",
    "point = tuple(map(float, input().strip().split(' ')))\n",
    "\n",
    "print(find_pos_rand_point(cir, point))"
   ]
  },
  {
   "cell_type": "markdown",
   "metadata": {},
   "source": [
    "---\n",
    "**1.3: Given the rectangle diagonal points and a random point find if the random point is inside or outside the rectangle**"
   ]
  },
  {
   "cell_type": "code",
   "execution_count": 23,
   "metadata": {},
   "outputs": [
    {
     "name": "stdout",
     "output_type": "stream",
     "text": [
      "Enter the top left and bottom right coordinates of a rectangle, i.e: x1 y1 x2 y2\n"
     ]
    },
    {
     "name": "stdin",
     "output_type": "stream",
     "text": [
      " 1 3 3 1\n"
     ]
    },
    {
     "name": "stdout",
     "output_type": "stream",
     "text": [
      "Enter the random point coordinates i.e: p q\n"
     ]
    },
    {
     "name": "stdin",
     "output_type": "stream",
     "text": [
      " 4 4 \n"
     ]
    },
    {
     "name": "stdout",
     "output_type": "stream",
     "text": [
      "Outside the rectangle\n"
     ]
    }
   ],
   "source": [
    "def find_pos_rand_point(rect_diag: tuple = (1,3,3,1), rand_point: tuple = None):\n",
    "    \n",
    "    diag1_x, diag1_y, diag2_x, diag2_y = rect_diag[0], rect_diag[1], rect_diag[2], rect_diag[3]\n",
    "    rand_x, rand_y = rand_point[0], rand_point[1]\n",
    "    \n",
    "    \n",
    "    if rand_x > diag1_x and rand_x < diag2_x and rand_y < diag1_y and rand_y > diag2_y:\n",
    "        return \"inside the rectangle\"\n",
    "    elif rand_x == diag1_x or rand_x == diag2_x or rand_y == diag1_y or rand_y == diag2_y:\n",
    "        return \"On the rectangle\"\n",
    "    else:\n",
    "        return \"Outside the rectangle\"\n",
    "\n",
    "\n",
    "print(\"Enter the top left and bottom right coordinates of a rectangle, i.e: x1 y1 x2 y2\")\n",
    "rect = tuple(map(float, input().strip().split(' ')))\n",
    "\n",
    "print(\"Enter the random point coordinates i.e: p q\")\n",
    "point = tuple(map(float, input().strip().split(' ')))\n",
    "\n",
    "print(find_pos_rand_point(rect, point))"
   ]
  },
  {
   "cell_type": "markdown",
   "metadata": {},
   "source": [
    "---"
   ]
  },
  {
   "cell_type": "code",
   "execution_count": null,
   "metadata": {},
   "outputs": [],
   "source": []
  }
 ],
 "metadata": {
  "kernelspec": {
   "display_name": "Python 3",
   "language": "python",
   "name": "python3"
  },
  "language_info": {
   "codemirror_mode": {
    "name": "ipython",
    "version": 3
   },
   "file_extension": ".py",
   "mimetype": "text/x-python",
   "name": "python",
   "nbconvert_exporter": "python",
   "pygments_lexer": "ipython3",
   "version": "3.7.4"
  }
 },
 "nbformat": 4,
 "nbformat_minor": 4
}
